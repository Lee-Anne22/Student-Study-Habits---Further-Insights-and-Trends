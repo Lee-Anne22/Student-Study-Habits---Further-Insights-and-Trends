{
  "cells": [
    {
      "cell_type": "markdown",
      "id": "abb1c0c4-427f-4b90-9382-68ac343a82c3",
      "metadata": {},
      "source": [
        "# \n",
        "\n",
        "# Data Collection and Preparation\n",
        "\n",
        "The data collected for this project is provided by Kaggle and thorough\n",
        "preparation of this data were done for machine learning models.\n",
        "\n",
        "``` python\n",
        "#Importing all necessary programs\n",
        "def import_study_libs():\n",
        "    import numpy as np\n",
        "    import pandas as pd\n",
        "    import seaborn as sns\n",
        "    import matplotlib.pyplot as plt\n",
        "    import sklearn as sk\n",
        "    from sklearn.model_selection import GridSearchCV\n",
        "    from sklearn.model_selection import StratifiedKFold\n",
        "    from sklearn.ensemble import RandomForestClassifier\n",
        "    from sklearn.metrics import accuracy_score\n",
        "    from sklearn.metrics import confusion_matrix\n",
        "    from sklearn.metrics import classification_report\n",
        "    from sklearn.metrics import make_scorer\n",
        "    import lime as lime\n",
        "    import shap as shap\n",
        "     return {\"np\":np, \"pd\":pd, \"plt\":plt, \"load_wine\":load_wine, \"GridSearchCV\":GridSearchCV, \"StratifiedKFold\":StratifiedKFold,\n",
        "            \"RandomForestClassifier\":RandomForestClassifier, \"accuracy_score\": accuracy_score, \"confusion_matrix\": confusion_matrix,\n",
        "            \"classification_report\":classification_report, \"make_scorer\": make_scorer}\n",
        "\n",
        "# Loading the data set\n",
        "file= C:\\Users\\Dell\\OneDrive\\Zaio Projects\\Student-Study-Habits---Further-Insights-and-Trends\\.venv\\student_habits_performance.csv\n",
        "def load_study_data():\n",
        "    try:\n",
        "        libs= import_study_libs()\n",
        "        df= pd.read_csv(file_path, sep=';', **kwargs)\n",
        "        dfc=df.columns.str.strip() #To clean up data\n",
        "        print (\"Data Loaded Succesfully!\")\n",
        "    except FileNotFoundError:\n",
        "        print (f\"File not found!: {file_path}\")\n",
        "   \n",
        "```\n",
        "\n",
        "##Testing"
      ]
    }
  ],
  "metadata": {
    "kernelspec": {
      "display_name": "base",
      "language": "python",
      "name": "python3"
    },
    "language_info": {
      "codemirror_mode": {
        "name": "ipython",
        "version": "3"
      },
      "file_extension": ".py",
      "mimetype": "text/x-python",
      "name": "python",
      "nbconvert_exporter": "python",
      "pygments_lexer": "ipython3",
      "version": "3.12.7"
    }
  },
  "nbformat": 4,
  "nbformat_minor": 5
}
