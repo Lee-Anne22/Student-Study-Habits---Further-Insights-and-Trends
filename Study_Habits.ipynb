{
  "cells": [
    {
      "cell_type": "markdown",
      "id": "7fc0e037-05e6-4866-b0a0-b375fa07701d",
      "metadata": {},
      "source": [
        "# Preparation of Data:\n",
        "\n",
        "# Data Collection and Preparation\n",
        "\n",
        "## Collection of Data:\n",
        "\n",
        "The data collected for this project is provided by Kaggle and thorough\n",
        "preparation of this data were done for machine learning models."
      ]
    },
    {
      "cell_type": "code",
      "execution_count": 19,
      "id": "8c949275",
      "metadata": {},
      "outputs": [],
      "source": [
        "#Importing all necessary programs\n",
        "def import_study_libs():\n",
        "    import numpy as np\n",
        "    import pandas as pd\n",
        "    import seaborn as sns\n",
        "    import matplotlib.pyplot as plt\n",
        "    import sklearn as sk\n",
        "    from sklearn.model_selection import train_test_split\n",
        "    from sklearn.model_selection import GridSearchCV\n",
        "    from sklearn.model_selection import StratifiedKFold\n",
        "    from sklearn.tree import DecisionTreeClassifier\n",
        "    from sklearn.tree import plot_tree\n",
        "    from sklearn.metrics import accuracy_score\n",
        "    from sklearn.metrics import confusion_matrix\n",
        "    from sklearn.metrics import classification_report\n",
        "    from sklearn.metrics import make_scorer\n",
        "    import lime as lime\n",
        "    import shap as shap\n",
        "    return {\"np\": np, \"pd\": pd, \"plt\": plt, \"train_test_split\": train_test_split, \"GridSearchCV\": GridSearchCV, \"StratifiedKFold\": StratifiedKFold,\n",
        "            \"DecisionTreeClassifier\": DecisionTreeClassifier, \"accuracy_score\": accuracy_score, \"confusion_matrix\": confusion_matrix,\n",
        "            \"classification_report\":classification_report, \"make_scorer\": make_scorer}\n",
        "\n",
        "# Loading the data set\n",
        "file= \"student_habits_performance.csv\"\n",
        "def load_study_data():\n",
        "    try:\n",
        "        libs= import_study_libs()\n",
        "        pd= libs[\"pd\"]\n",
        "        df= pd.read_csv(file, sep=';')\n",
        "        dfc=df.columns.str.strip() #To clean up data\n",
        "        print (\"Data Loaded Succesfully!\")\n",
        "    except FileNotFoundError:\n",
        "        print (f\"File not found!: {file}\")\n"
      ]
    },
    {
      "cell_type": "markdown",
      "id": "8483000f-e6d0-4f30-9577-bd58e96f6018",
      "metadata": {},
      "source": [
        "Data is prepped by removing missing values, selecting the age range,\n",
        "encoding categorical values and normalising numeric variables."
      ]
    },
    {
      "cell_type": "code",
      "execution_count": 11,
      "id": "23220aa0",
      "metadata": {},
      "outputs": [],
      "source": [
        "# Handle missing Values and duplicates:\n",
        "def study_clean():\n",
        "    data= load_study_data()\n",
        "    df= data[\"dfc\"]\n",
        "    libs= import_study_libs()\n",
        "    pd= libs[\"pd\"]\n",
        "    np= libs[\"np\"]\n",
        "    size=df.head()\n",
        "    shape=df.shape()\n",
        "    stats=df.describe()\n",
        "    print (f\"Data size: {size}\\n Data shape: {shape}\\n Data Statistics: {stats}\")\n",
        "    df_missing= df.fillna(df.mean (numeric_only= True))\n",
        "    df_duplicates= df_missing.drop_duplicates()\n",
        "    df_clean = df_duplicates[\n",
        "            (df_duplicates[\"sleep_hours\"] + df_duplicates[\"social_media_hours\"] + df_duplicates[\"netflix_hours\"] + df_duplicates[\"study_hours_per_day\"] <= 24) &\n",
        "            (df_duplicates[\"sleep_hours\"] >= 0) & \n",
        "            (df_duplicates[\"age\"].between(16, 24))]\n",
        "    print (\"Data preprocessed and cleaned!\")\n",
        "    return df_clean\n"
      ]
    },
    {
      "cell_type": "markdown",
      "id": "0b561073-7bd8-4289-af36-51dcd5b4e094",
      "metadata": {},
      "source": [
        "# Data Exploration and Model Building\n",
        "\n",
        "## Statistical Analysis:\n",
        "\n",
        "The data was first explored by applied statistical in three ways:\n",
        "\n",
        "-   Mean study time by Health Tier\n",
        "\n",
        "-   Correlation between sleep and exam scores\n",
        "\n",
        "-   Outlier detection"
      ]
    },
    {
      "cell_type": "code",
      "execution_count": 12,
      "id": "d813dd37",
      "metadata": {},
      "outputs": [],
      "source": [
        "# Statistical Analysis\n",
        "def stats():\n",
        "    data= study_clean()\n",
        "    #Get data statistical analysis after cleaning\n",
        "    return data.describe()\n"
      ]
    },
    {
      "cell_type": "markdown",
      "id": "7ca6d1cc-42e2-4eae-84d9-c32069ba388b",
      "metadata": {},
      "source": [
        "## Data Exploration:\n",
        "\n",
        "Data were explored and the following plots were obtained:\n",
        "\n",
        "-   Scatter plot\n",
        "\n",
        "    -   The correlation between exam score and internet quality, sleep\n",
        "        hours and exercise frequency\n",
        "\n",
        "-   Stacked bar plot\n",
        "\n",
        "    -   The difference in categories between the following age groups:\n",
        "        16-18 years, 19-20 years, 21-22 years and 23-24 years.\n",
        "\n",
        "-   Box/Violin plots\n",
        "\n",
        "    -   Mental Health rating per age group: 16-18 years, 19-20 years,\n",
        "        21-22 years and 23-24 years.\n",
        "\n",
        "-   Heatmaps\n",
        "\n",
        "    -   To gain multivariate insights between categories\n",
        "\n",
        "-   Parallel Coordinates plots\n",
        "\n",
        "    -   \n",
        "\n",
        "-   Radar Charts\n",
        "\n",
        "    -   The difference in time spent between the following age groups:\n",
        "        16-18 years, 19-20 years, 21-22 years and 23-24 years.\n",
        "\n",
        "        -   Amount of study hours - study hours\n",
        "\n",
        "        -   Amount of time spent on social media - social media hours\n",
        "\n",
        "        -   Amount of time spent on Netflix - netflix hours\n",
        "\n",
        "        -   Amount of time spent on sleep - sleep hours"
      ]
    },
    {
      "cell_type": "code",
      "execution_count": 13,
      "id": "e35bf436",
      "metadata": {},
      "outputs": [],
      "source": [
        "def Scatterplots():\n",
        "    data= study_clean()\n",
        "    df= data[\"df_clean\"]\n",
        "    libs = import_study_libs()\n",
        "    plt= libs[\"plt\"]\n",
        "    sns= libs[\"sns\"]\n",
        "# Scatter plot : Subplot (1) Exam score vs Internet Quality\n",
        "    plt.figure(figsize=(15,8), facecolor='c')\n",
        "    sns.set_style(\"whitegrid\")\n",
        "    x=df[\"Internet_Quality\"]\n",
        "    y=df[\"exam_score\"]\n",
        "    plt.subplot (2,3,1) # creating the plot\n",
        "    ax.set_xlabel(\"Internet Quality\")\n",
        "    ax.set_ylabel(\"Exam Score\")\n",
        "    ax.plot(x,y,)\n",
        "    ax.set_title(\"Exam Score VS Internet Quality\", fontsize=12)\n",
        "    fig.tight\n",
        "    plt.show\n",
        "    from Ipython.display import Image\n",
        "    fig.savefig('ExamScore_vs_InternetQuality.png') #saving plot as png\n",
        "\n",
        "    # # Subplot(2) Exam score vs Sleep\n",
        "    # x=\n",
        "    # y=\n",
        "    # plt.subplots(2,3,2) # creating the plot\n",
        "    # ax.set_xlabel(\"Sleep Hours\")\n",
        "    # ax.set_ylabel(\"Exam Score\")\n",
        "    # ax.plot(x,y,\"dark blue\")\n",
        "    # ax.set_title(\"Exam Scores VS Sleep Hours\", fontsize=12)\n",
        "    # fig.tight\n",
        "    # plt.show\n",
        "    # from Ipython.display import Image\n",
        "    # fig.savefig('ExamScore_vs_Sleep.png') #saving plot as png\n",
        "\n",
        "    # # Subplot (3): Exam score vs Exercise Frequency\n",
        "    # x=\n",
        "    # y=\n",
        "    # plt.subplots(2,3,3) # creating the plot\n",
        "    # ax.set_xlabel(\"Exercise Frequency\")\n",
        "    # ax.set_ylabel(\"Exam Score\")\n",
        "    # ax.plot(x,y,\"dark blue\")\n",
        "    # ax.set_title(\"Exam Scores VS Exercise Frequency\", fontsize=12)\n",
        "    # fig.tight\n",
        "    # plt.show\n",
        "    # from Ipython.display import Image\n",
        "    # fig.savefig('ExamScore_vs_Sleep.png') #saving plot as png"
      ]
    },
    {
      "cell_type": "code",
      "execution_count": 14,
      "id": "365a5d7a",
      "metadata": {},
      "outputs": [],
      "source": [
        "#Stacked bar plot1: Difference in age groups"
      ]
    },
    {
      "cell_type": "code",
      "execution_count": 15,
      "id": "2fd9efde",
      "metadata": {},
      "outputs": [],
      "source": [
        "#Violin plot: Mental Health rating per age group: 16-18 years, 19-20 years, 21-22 years and 23-24 years"
      ]
    },
    {
      "cell_type": "code",
      "execution_count": 16,
      "id": "c19b0a13",
      "metadata": {},
      "outputs": [],
      "source": [
        "#Heatmap"
      ]
    },
    {
      "cell_type": "code",
      "execution_count": 17,
      "id": "65f1ffd5",
      "metadata": {},
      "outputs": [],
      "source": [
        "#Parallel Coordinates plot"
      ]
    },
    {
      "cell_type": "code",
      "execution_count": 18,
      "id": "932cc206",
      "metadata": {},
      "outputs": [],
      "source": [
        "#Radar Charts"
      ]
    },
    {
      "cell_type": "markdown",
      "id": "506976f9-e94b-4f5f-8003-d21a74cf3789",
      "metadata": {},
      "source": [
        "## Model Building:\n",
        "\n",
        "The linear regression model and decision tree model were trained for\n",
        "this project:\n",
        "\n",
        "##### Linear Regression Model\n",
        "\n",
        "The following categories were considered in the linear regression model:\n",
        "\n",
        "-   Study hours\n",
        "-   Sleep hours\n",
        "-   Social Media hours\n",
        "-   Netflix hours\n",
        "-   Exercise frequency\n",
        "-   Predicted Exam Score\n",
        "\n",
        "The categories expected to be most profitable were increased to predict\n",
        "the impact on exam score. These categories were: sleep hours, study\n",
        "hours and exercise frequency.\n",
        "\n",
        "##### Decision Tree\n",
        "\n",
        "A decision tree was utilised to predict whether a student would obtain\n",
        "an exam score above 75% or not.\n",
        "\n",
        "#Note to self: Need to change the following categories:\n",
        "\n",
        "-   part-time -\\> 0 or 1 (binary class)\n",
        "\n",
        "-   diet quality (multi-class)\n",
        "\n",
        "-   parental education (multi-class)\n",
        "\n",
        "-   internet quality (multi-class)\n",
        "\n",
        "-   extracurricular activity -\\> 0 or 1 (binary class)"
      ]
    }
  ],
  "metadata": {
    "kernelspec": {
      "display_name": "base",
      "language": "python",
      "name": "python3"
    },
    "language_info": {
      "codemirror_mode": {
        "name": "ipython",
        "version": 3
      },
      "file_extension": ".py",
      "mimetype": "text/x-python",
      "name": "python",
      "nbconvert_exporter": "python",
      "pygments_lexer": "ipython3",
      "version": "3.12.7"
    }
  },
  "nbformat": 4,
  "nbformat_minor": 5
}
